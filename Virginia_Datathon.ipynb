{
  "nbformat": 4,
  "nbformat_minor": 0,
  "metadata": {
    "colab": {
      "provenance": []
    },
    "kernelspec": {
      "name": "python3",
      "display_name": "Python 3"
    },
    "language_info": {
      "name": "python"
    }
  },
  "cells": [
    {
      "cell_type": "code",
      "execution_count": null,
      "metadata": {
        "id": "wgI9_W8WmuWk"
      },
      "outputs": [],
      "source": [
        "# import pandas as pd\n",
        "# df = pd.read_csv('/content/CrashData_test_309100363578630694.csv')\n",
        "# df.head()"
      ]
    },
    {
      "cell_type": "code",
      "source": [],
      "metadata": {
        "id": "dWd52gUHfjbC"
      },
      "execution_count": null,
      "outputs": []
    },
    {
      "cell_type": "code",
      "source": [
        "# print(df.isnull().sum())"
      ],
      "metadata": {
        "id": "H48P20PYoUfZ"
      },
      "execution_count": null,
      "outputs": []
    },
    {
      "cell_type": "code",
      "source": [
        "# print(df.columns)"
      ],
      "metadata": {
        "id": "MTBznH06o8VU"
      },
      "execution_count": null,
      "outputs": []
    },
    {
      "cell_type": "code",
      "source": [
        "# import pandas as pd\n",
        "\n",
        "# data=pd.read_csv('/content/sample_data/CrashData_test_309100363578630694.csv')\n",
        "# data.head()"
      ],
      "metadata": {
        "id": "YXxhXOFofkhS"
      },
      "execution_count": null,
      "outputs": []
    },
    {
      "cell_type": "code",
      "source": [
        "# data.columns"
      ],
      "metadata": {
        "id": "osZg-2R8fv4k"
      },
      "execution_count": null,
      "outputs": []
    },
    {
      "cell_type": "code",
      "source": [
        "# data.shape"
      ],
      "metadata": {
        "id": "jWoazMhxf57L"
      },
      "execution_count": null,
      "outputs": []
    },
    {
      "cell_type": "code",
      "source": [
        "import pandas as pd\n",
        "import numpy as np\n",
        "\n",
        "data = pd.read_csv('/content/df_merged.csv')"
      ],
      "metadata": {
        "id": "GK4vFi09oMmA"
      },
      "execution_count": null,
      "outputs": []
    },
    {
      "cell_type": "code",
      "source": [
        "print(len(data))"
      ],
      "metadata": {
        "colab": {
          "base_uri": "https://localhost:8080/"
        },
        "id": "V7B5vlgAoXgI",
        "outputId": "0a88291c-edf5-43f2-e3dd-a2599496232b"
      },
      "execution_count": null,
      "outputs": [
        {
          "output_type": "stream",
          "name": "stdout",
          "text": [
            "1128862\n"
          ]
        }
      ]
    },
    {
      "cell_type": "code",
      "source": [
        "data.columns"
      ],
      "metadata": {
        "colab": {
          "base_uri": "https://localhost:8080/"
        },
        "id": "l9bmIBpJoZcz",
        "outputId": "2f0f9c7e-3ef9-4eeb-cf62-6820ff69b842"
      },
      "execution_count": null,
      "outputs": [
        {
          "output_type": "execute_result",
          "data": {
            "text/plain": [
              "Index(['OBJECTID', 'Document Nbr', 'Crash Year', 'Crash Severity', 'K_People',\n",
              "       'A_People', 'B_People', 'C_People', 'Persons Injured',\n",
              "       'Pedestrians Killed', 'Pedestrians Injured', 'Vehicle Count',\n",
              "       'Collision Type', 'Weather Condition', 'Light Condition',\n",
              "       'Roadway Surface Condition', 'Relation To Roadway', 'Roadway Alignment',\n",
              "       'Roadway Surface Type', 'Roadway Defect', 'Roadway Description',\n",
              "       'Intersection Type', 'Traffic Control Type', 'Traffic Control Status',\n",
              "       'Work Zone Related', 'School Zone', 'First Harmful Event',\n",
              "       'First Harmful Event Loc', 'Alcohol?', 'Animal Related?',\n",
              "       'Unrestrained?', 'Bike?', 'Distracted?', 'Drowsy?', 'Drug Related?',\n",
              "       'Guardrail Related?', 'Hitrun?', 'Lgtruck?', 'Motorcycle?',\n",
              "       'Pedestrian?', 'Speed?', 'RoadDeparture Type', 'Intersection Analysis',\n",
              "       'Senior?', 'Young?', 'Mainline?', 'Night?', 'VDOT District',\n",
              "       'Juris Code', 'Physical Juris Name', 'Functional Class',\n",
              "       'Facility Type', 'Area Type', 'SYSTEM', 'VSP', 'Ownership',\n",
              "       'Planning District', 'RTE Name', 'RNS MP', 'x', 'y', 'Month',\n",
              "       'Day_of_Month', 'Day_Name', 'Season', 'Speed_Posted_Clean',\n",
              "       'Speed_Max_Safe_Cleaned', 'Vehicle_Year_Avg', 'Vehicle_Year_Range'],\n",
              "      dtype='object')"
            ]
          },
          "metadata": {},
          "execution_count": 12
        }
      ]
    },
    {
      "cell_type": "code",
      "source": [
        "data.head()"
      ],
      "metadata": {
        "colab": {
          "base_uri": "https://localhost:8080/",
          "height": 273
        },
        "id": "9nvBvi8HurJd",
        "outputId": "c57df05f-d35f-45c4-a373-6d12f6d2fa09"
      },
      "execution_count": null,
      "outputs": [
        {
          "output_type": "execute_result",
          "data": {
            "text/plain": [
              "   OBJECTID  Document Nbr  Crash Year Crash Severity  K_People  A_People  \\\n",
              "0         1     163465085        2016              O         0         0   \n",
              "1         2     160725125        2016              O         0         0   \n",
              "2         3     160465260        2016              B         0         0   \n",
              "3         4     161255113        2016              O         0         0   \n",
              "4         5     162005180        2016              O         0         0   \n",
              "\n",
              "   B_People  C_People  Persons Injured  Pedestrians Killed  ...          x  \\\n",
              "0         0         0                0                   0  ... -77.280787   \n",
              "1         0         0                0                   0  ... -76.322790   \n",
              "2         2         0                2                   0  ... -76.362036   \n",
              "3         0         0                0                   0  ... -77.453780   \n",
              "4         0         0                0                   0  ... -79.942464   \n",
              "\n",
              "           y     Month Day_of_Month  Day_Name  Season Speed_Posted_Clean  \\\n",
              "0  38.653845  December            6   Tuesday  Winter               60.0   \n",
              "1  37.027737   January           26   Tuesday  Winter               35.0   \n",
              "2  37.898547  February           13  Saturday  Winter               55.0   \n",
              "3  37.695529     March           26  Saturday  Spring               35.0   \n",
              "4  37.103654      July           18    Monday  Summer               55.0   \n",
              "\n",
              "  Speed_Max_Safe_Cleaned Vehicle_Year_Avg Vehicle_Year_Range  \n",
              "0                   25.0           2012.0                7.0  \n",
              "1                   35.0           2008.0                6.0  \n",
              "2                   55.0           1996.0                0.0  \n",
              "3                   35.0           2003.0               10.0  \n",
              "4                   55.0           1994.0                3.0  \n",
              "\n",
              "[5 rows x 69 columns]"
            ],
            "text/html": [
              "\n",
              "  <div id=\"df-d8a0b9fe-72f2-4476-a42c-1293bd266e70\" class=\"colab-df-container\">\n",
              "    <div>\n",
              "<style scoped>\n",
              "    .dataframe tbody tr th:only-of-type {\n",
              "        vertical-align: middle;\n",
              "    }\n",
              "\n",
              "    .dataframe tbody tr th {\n",
              "        vertical-align: top;\n",
              "    }\n",
              "\n",
              "    .dataframe thead th {\n",
              "        text-align: right;\n",
              "    }\n",
              "</style>\n",
              "<table border=\"1\" class=\"dataframe\">\n",
              "  <thead>\n",
              "    <tr style=\"text-align: right;\">\n",
              "      <th></th>\n",
              "      <th>OBJECTID</th>\n",
              "      <th>Document Nbr</th>\n",
              "      <th>Crash Year</th>\n",
              "      <th>Crash Severity</th>\n",
              "      <th>K_People</th>\n",
              "      <th>A_People</th>\n",
              "      <th>B_People</th>\n",
              "      <th>C_People</th>\n",
              "      <th>Persons Injured</th>\n",
              "      <th>Pedestrians Killed</th>\n",
              "      <th>...</th>\n",
              "      <th>x</th>\n",
              "      <th>y</th>\n",
              "      <th>Month</th>\n",
              "      <th>Day_of_Month</th>\n",
              "      <th>Day_Name</th>\n",
              "      <th>Season</th>\n",
              "      <th>Speed_Posted_Clean</th>\n",
              "      <th>Speed_Max_Safe_Cleaned</th>\n",
              "      <th>Vehicle_Year_Avg</th>\n",
              "      <th>Vehicle_Year_Range</th>\n",
              "    </tr>\n",
              "  </thead>\n",
              "  <tbody>\n",
              "    <tr>\n",
              "      <th>0</th>\n",
              "      <td>1</td>\n",
              "      <td>163465085</td>\n",
              "      <td>2016</td>\n",
              "      <td>O</td>\n",
              "      <td>0</td>\n",
              "      <td>0</td>\n",
              "      <td>0</td>\n",
              "      <td>0</td>\n",
              "      <td>0</td>\n",
              "      <td>0</td>\n",
              "      <td>...</td>\n",
              "      <td>-77.280787</td>\n",
              "      <td>38.653845</td>\n",
              "      <td>December</td>\n",
              "      <td>6</td>\n",
              "      <td>Tuesday</td>\n",
              "      <td>Winter</td>\n",
              "      <td>60.0</td>\n",
              "      <td>25.0</td>\n",
              "      <td>2012.0</td>\n",
              "      <td>7.0</td>\n",
              "    </tr>\n",
              "    <tr>\n",
              "      <th>1</th>\n",
              "      <td>2</td>\n",
              "      <td>160725125</td>\n",
              "      <td>2016</td>\n",
              "      <td>O</td>\n",
              "      <td>0</td>\n",
              "      <td>0</td>\n",
              "      <td>0</td>\n",
              "      <td>0</td>\n",
              "      <td>0</td>\n",
              "      <td>0</td>\n",
              "      <td>...</td>\n",
              "      <td>-76.322790</td>\n",
              "      <td>37.027737</td>\n",
              "      <td>January</td>\n",
              "      <td>26</td>\n",
              "      <td>Tuesday</td>\n",
              "      <td>Winter</td>\n",
              "      <td>35.0</td>\n",
              "      <td>35.0</td>\n",
              "      <td>2008.0</td>\n",
              "      <td>6.0</td>\n",
              "    </tr>\n",
              "    <tr>\n",
              "      <th>2</th>\n",
              "      <td>3</td>\n",
              "      <td>160465260</td>\n",
              "      <td>2016</td>\n",
              "      <td>B</td>\n",
              "      <td>0</td>\n",
              "      <td>0</td>\n",
              "      <td>2</td>\n",
              "      <td>0</td>\n",
              "      <td>2</td>\n",
              "      <td>0</td>\n",
              "      <td>...</td>\n",
              "      <td>-76.362036</td>\n",
              "      <td>37.898547</td>\n",
              "      <td>February</td>\n",
              "      <td>13</td>\n",
              "      <td>Saturday</td>\n",
              "      <td>Winter</td>\n",
              "      <td>55.0</td>\n",
              "      <td>55.0</td>\n",
              "      <td>1996.0</td>\n",
              "      <td>0.0</td>\n",
              "    </tr>\n",
              "    <tr>\n",
              "      <th>3</th>\n",
              "      <td>4</td>\n",
              "      <td>161255113</td>\n",
              "      <td>2016</td>\n",
              "      <td>O</td>\n",
              "      <td>0</td>\n",
              "      <td>0</td>\n",
              "      <td>0</td>\n",
              "      <td>0</td>\n",
              "      <td>0</td>\n",
              "      <td>0</td>\n",
              "      <td>...</td>\n",
              "      <td>-77.453780</td>\n",
              "      <td>37.695529</td>\n",
              "      <td>March</td>\n",
              "      <td>26</td>\n",
              "      <td>Saturday</td>\n",
              "      <td>Spring</td>\n",
              "      <td>35.0</td>\n",
              "      <td>35.0</td>\n",
              "      <td>2003.0</td>\n",
              "      <td>10.0</td>\n",
              "    </tr>\n",
              "    <tr>\n",
              "      <th>4</th>\n",
              "      <td>5</td>\n",
              "      <td>162005180</td>\n",
              "      <td>2016</td>\n",
              "      <td>O</td>\n",
              "      <td>0</td>\n",
              "      <td>0</td>\n",
              "      <td>0</td>\n",
              "      <td>0</td>\n",
              "      <td>0</td>\n",
              "      <td>0</td>\n",
              "      <td>...</td>\n",
              "      <td>-79.942464</td>\n",
              "      <td>37.103654</td>\n",
              "      <td>July</td>\n",
              "      <td>18</td>\n",
              "      <td>Monday</td>\n",
              "      <td>Summer</td>\n",
              "      <td>55.0</td>\n",
              "      <td>55.0</td>\n",
              "      <td>1994.0</td>\n",
              "      <td>3.0</td>\n",
              "    </tr>\n",
              "  </tbody>\n",
              "</table>\n",
              "<p>5 rows × 69 columns</p>\n",
              "</div>\n",
              "    <div class=\"colab-df-buttons\">\n",
              "\n",
              "  <div class=\"colab-df-container\">\n",
              "    <button class=\"colab-df-convert\" onclick=\"convertToInteractive('df-d8a0b9fe-72f2-4476-a42c-1293bd266e70')\"\n",
              "            title=\"Convert this dataframe to an interactive table.\"\n",
              "            style=\"display:none;\">\n",
              "\n",
              "  <svg xmlns=\"http://www.w3.org/2000/svg\" height=\"24px\" viewBox=\"0 -960 960 960\">\n",
              "    <path d=\"M120-120v-720h720v720H120Zm60-500h600v-160H180v160Zm220 220h160v-160H400v160Zm0 220h160v-160H400v160ZM180-400h160v-160H180v160Zm440 0h160v-160H620v160ZM180-180h160v-160H180v160Zm440 0h160v-160H620v160Z\"/>\n",
              "  </svg>\n",
              "    </button>\n",
              "\n",
              "  <style>\n",
              "    .colab-df-container {\n",
              "      display:flex;\n",
              "      gap: 12px;\n",
              "    }\n",
              "\n",
              "    .colab-df-convert {\n",
              "      background-color: #E8F0FE;\n",
              "      border: none;\n",
              "      border-radius: 50%;\n",
              "      cursor: pointer;\n",
              "      display: none;\n",
              "      fill: #1967D2;\n",
              "      height: 32px;\n",
              "      padding: 0 0 0 0;\n",
              "      width: 32px;\n",
              "    }\n",
              "\n",
              "    .colab-df-convert:hover {\n",
              "      background-color: #E2EBFA;\n",
              "      box-shadow: 0px 1px 2px rgba(60, 64, 67, 0.3), 0px 1px 3px 1px rgba(60, 64, 67, 0.15);\n",
              "      fill: #174EA6;\n",
              "    }\n",
              "\n",
              "    .colab-df-buttons div {\n",
              "      margin-bottom: 4px;\n",
              "    }\n",
              "\n",
              "    [theme=dark] .colab-df-convert {\n",
              "      background-color: #3B4455;\n",
              "      fill: #D2E3FC;\n",
              "    }\n",
              "\n",
              "    [theme=dark] .colab-df-convert:hover {\n",
              "      background-color: #434B5C;\n",
              "      box-shadow: 0px 1px 3px 1px rgba(0, 0, 0, 0.15);\n",
              "      filter: drop-shadow(0px 1px 2px rgba(0, 0, 0, 0.3));\n",
              "      fill: #FFFFFF;\n",
              "    }\n",
              "  </style>\n",
              "\n",
              "    <script>\n",
              "      const buttonEl =\n",
              "        document.querySelector('#df-d8a0b9fe-72f2-4476-a42c-1293bd266e70 button.colab-df-convert');\n",
              "      buttonEl.style.display =\n",
              "        google.colab.kernel.accessAllowed ? 'block' : 'none';\n",
              "\n",
              "      async function convertToInteractive(key) {\n",
              "        const element = document.querySelector('#df-d8a0b9fe-72f2-4476-a42c-1293bd266e70');\n",
              "        const dataTable =\n",
              "          await google.colab.kernel.invokeFunction('convertToInteractive',\n",
              "                                                    [key], {});\n",
              "        if (!dataTable) return;\n",
              "\n",
              "        const docLinkHtml = 'Like what you see? Visit the ' +\n",
              "          '<a target=\"_blank\" href=https://colab.research.google.com/notebooks/data_table.ipynb>data table notebook</a>'\n",
              "          + ' to learn more about interactive tables.';\n",
              "        element.innerHTML = '';\n",
              "        dataTable['output_type'] = 'display_data';\n",
              "        await google.colab.output.renderOutput(dataTable, element);\n",
              "        const docLink = document.createElement('div');\n",
              "        docLink.innerHTML = docLinkHtml;\n",
              "        element.appendChild(docLink);\n",
              "      }\n",
              "    </script>\n",
              "  </div>\n",
              "\n",
              "\n",
              "<div id=\"df-51a21977-6758-4835-9c97-a78be640efa6\">\n",
              "  <button class=\"colab-df-quickchart\" onclick=\"quickchart('df-51a21977-6758-4835-9c97-a78be640efa6')\"\n",
              "            title=\"Suggest charts\"\n",
              "            style=\"display:none;\">\n",
              "\n",
              "<svg xmlns=\"http://www.w3.org/2000/svg\" height=\"24px\"viewBox=\"0 0 24 24\"\n",
              "     width=\"24px\">\n",
              "    <g>\n",
              "        <path d=\"M19 3H5c-1.1 0-2 .9-2 2v14c0 1.1.9 2 2 2h14c1.1 0 2-.9 2-2V5c0-1.1-.9-2-2-2zM9 17H7v-7h2v7zm4 0h-2V7h2v10zm4 0h-2v-4h2v4z\"/>\n",
              "    </g>\n",
              "</svg>\n",
              "  </button>\n",
              "\n",
              "<style>\n",
              "  .colab-df-quickchart {\n",
              "      --bg-color: #E8F0FE;\n",
              "      --fill-color: #1967D2;\n",
              "      --hover-bg-color: #E2EBFA;\n",
              "      --hover-fill-color: #174EA6;\n",
              "      --disabled-fill-color: #AAA;\n",
              "      --disabled-bg-color: #DDD;\n",
              "  }\n",
              "\n",
              "  [theme=dark] .colab-df-quickchart {\n",
              "      --bg-color: #3B4455;\n",
              "      --fill-color: #D2E3FC;\n",
              "      --hover-bg-color: #434B5C;\n",
              "      --hover-fill-color: #FFFFFF;\n",
              "      --disabled-bg-color: #3B4455;\n",
              "      --disabled-fill-color: #666;\n",
              "  }\n",
              "\n",
              "  .colab-df-quickchart {\n",
              "    background-color: var(--bg-color);\n",
              "    border: none;\n",
              "    border-radius: 50%;\n",
              "    cursor: pointer;\n",
              "    display: none;\n",
              "    fill: var(--fill-color);\n",
              "    height: 32px;\n",
              "    padding: 0;\n",
              "    width: 32px;\n",
              "  }\n",
              "\n",
              "  .colab-df-quickchart:hover {\n",
              "    background-color: var(--hover-bg-color);\n",
              "    box-shadow: 0 1px 2px rgba(60, 64, 67, 0.3), 0 1px 3px 1px rgba(60, 64, 67, 0.15);\n",
              "    fill: var(--button-hover-fill-color);\n",
              "  }\n",
              "\n",
              "  .colab-df-quickchart-complete:disabled,\n",
              "  .colab-df-quickchart-complete:disabled:hover {\n",
              "    background-color: var(--disabled-bg-color);\n",
              "    fill: var(--disabled-fill-color);\n",
              "    box-shadow: none;\n",
              "  }\n",
              "\n",
              "  .colab-df-spinner {\n",
              "    border: 2px solid var(--fill-color);\n",
              "    border-color: transparent;\n",
              "    border-bottom-color: var(--fill-color);\n",
              "    animation:\n",
              "      spin 1s steps(1) infinite;\n",
              "  }\n",
              "\n",
              "  @keyframes spin {\n",
              "    0% {\n",
              "      border-color: transparent;\n",
              "      border-bottom-color: var(--fill-color);\n",
              "      border-left-color: var(--fill-color);\n",
              "    }\n",
              "    20% {\n",
              "      border-color: transparent;\n",
              "      border-left-color: var(--fill-color);\n",
              "      border-top-color: var(--fill-color);\n",
              "    }\n",
              "    30% {\n",
              "      border-color: transparent;\n",
              "      border-left-color: var(--fill-color);\n",
              "      border-top-color: var(--fill-color);\n",
              "      border-right-color: var(--fill-color);\n",
              "    }\n",
              "    40% {\n",
              "      border-color: transparent;\n",
              "      border-right-color: var(--fill-color);\n",
              "      border-top-color: var(--fill-color);\n",
              "    }\n",
              "    60% {\n",
              "      border-color: transparent;\n",
              "      border-right-color: var(--fill-color);\n",
              "    }\n",
              "    80% {\n",
              "      border-color: transparent;\n",
              "      border-right-color: var(--fill-color);\n",
              "      border-bottom-color: var(--fill-color);\n",
              "    }\n",
              "    90% {\n",
              "      border-color: transparent;\n",
              "      border-bottom-color: var(--fill-color);\n",
              "    }\n",
              "  }\n",
              "</style>\n",
              "\n",
              "  <script>\n",
              "    async function quickchart(key) {\n",
              "      const quickchartButtonEl =\n",
              "        document.querySelector('#' + key + ' button');\n",
              "      quickchartButtonEl.disabled = true;  // To prevent multiple clicks.\n",
              "      quickchartButtonEl.classList.add('colab-df-spinner');\n",
              "      try {\n",
              "        const charts = await google.colab.kernel.invokeFunction(\n",
              "            'suggestCharts', [key], {});\n",
              "      } catch (error) {\n",
              "        console.error('Error during call to suggestCharts:', error);\n",
              "      }\n",
              "      quickchartButtonEl.classList.remove('colab-df-spinner');\n",
              "      quickchartButtonEl.classList.add('colab-df-quickchart-complete');\n",
              "    }\n",
              "    (() => {\n",
              "      let quickchartButtonEl =\n",
              "        document.querySelector('#df-51a21977-6758-4835-9c97-a78be640efa6 button');\n",
              "      quickchartButtonEl.style.display =\n",
              "        google.colab.kernel.accessAllowed ? 'block' : 'none';\n",
              "    })();\n",
              "  </script>\n",
              "</div>\n",
              "\n",
              "    </div>\n",
              "  </div>\n"
            ],
            "application/vnd.google.colaboratory.intrinsic+json": {
              "type": "dataframe",
              "variable_name": "data"
            }
          },
          "metadata": {},
          "execution_count": 13
        }
      ]
    },
    {
      "cell_type": "code",
      "source": [
        "# prompt: take the first 300 entries from the data and save it as csv called sample_crash_data.csc\n",
        "\n",
        "# Assuming 'df_merged' is your DataFrame as defined in the provided code.\n",
        "sample_data = data.head(300)\n",
        "sample_data.to_csv('sample_crash_data.csv', index=False)\n"
      ],
      "metadata": {
        "id": "ixqgxtEjvE0u"
      },
      "execution_count": null,
      "outputs": []
    },
    {
      "cell_type": "markdown",
      "source": [],
      "metadata": {
        "id": "HJUExOYKvEHF"
      }
    },
    {
      "cell_type": "code",
      "source": [
        "print(data.shape)"
      ],
      "metadata": {
        "colab": {
          "base_uri": "https://localhost:8080/"
        },
        "id": "X8pZiRFTvC40",
        "outputId": "7f50b558-d7ec-4934-cddb-9f2c5ca5de75"
      },
      "execution_count": null,
      "outputs": [
        {
          "output_type": "stream",
          "name": "stdout",
          "text": [
            "(1128862, 69)\n"
          ]
        }
      ]
    },
    {
      "cell_type": "code",
      "source": [
        "data.head()"
      ],
      "metadata": {
        "colab": {
          "base_uri": "https://localhost:8080/",
          "height": 273
        },
        "id": "3gPS_K1OHwSG",
        "outputId": "5fa2364a-0bb2-4e84-85fc-24d096f2898a"
      },
      "execution_count": null,
      "outputs": [
        {
          "output_type": "execute_result",
          "data": {
            "text/plain": [
              "   OBJECTID  Document Nbr  Crash Year Crash Severity  K_People  A_People  \\\n",
              "0         1     163465085        2016              O         0         0   \n",
              "1         2     160725125        2016              O         0         0   \n",
              "2         3     160465260        2016              B         0         0   \n",
              "3         4     161255113        2016              O         0         0   \n",
              "4         5     162005180        2016              O         0         0   \n",
              "\n",
              "   B_People  C_People  Persons Injured  Pedestrians Killed  ...          x  \\\n",
              "0         0         0                0                   0  ... -77.280787   \n",
              "1         0         0                0                   0  ... -76.322790   \n",
              "2         2         0                2                   0  ... -76.362036   \n",
              "3         0         0                0                   0  ... -77.453780   \n",
              "4         0         0                0                   0  ... -79.942464   \n",
              "\n",
              "           y     Month Day_of_Month  Day_Name  Season Speed_Posted_Clean  \\\n",
              "0  38.653845  December            6   Tuesday  Winter               60.0   \n",
              "1  37.027737   January           26   Tuesday  Winter               35.0   \n",
              "2  37.898547  February           13  Saturday  Winter               55.0   \n",
              "3  37.695529     March           26  Saturday  Spring               35.0   \n",
              "4  37.103654      July           18    Monday  Summer               55.0   \n",
              "\n",
              "  Speed_Max_Safe_Cleaned Vehicle_Year_Avg Vehicle_Year_Range  \n",
              "0                   25.0           2012.0                7.0  \n",
              "1                   35.0           2008.0                6.0  \n",
              "2                   55.0           1996.0                0.0  \n",
              "3                   35.0           2003.0               10.0  \n",
              "4                   55.0           1994.0                3.0  \n",
              "\n",
              "[5 rows x 69 columns]"
            ],
            "text/html": [
              "\n",
              "  <div id=\"df-ed3b250b-0417-4cee-97c7-dbaad06b8d31\" class=\"colab-df-container\">\n",
              "    <div>\n",
              "<style scoped>\n",
              "    .dataframe tbody tr th:only-of-type {\n",
              "        vertical-align: middle;\n",
              "    }\n",
              "\n",
              "    .dataframe tbody tr th {\n",
              "        vertical-align: top;\n",
              "    }\n",
              "\n",
              "    .dataframe thead th {\n",
              "        text-align: right;\n",
              "    }\n",
              "</style>\n",
              "<table border=\"1\" class=\"dataframe\">\n",
              "  <thead>\n",
              "    <tr style=\"text-align: right;\">\n",
              "      <th></th>\n",
              "      <th>OBJECTID</th>\n",
              "      <th>Document Nbr</th>\n",
              "      <th>Crash Year</th>\n",
              "      <th>Crash Severity</th>\n",
              "      <th>K_People</th>\n",
              "      <th>A_People</th>\n",
              "      <th>B_People</th>\n",
              "      <th>C_People</th>\n",
              "      <th>Persons Injured</th>\n",
              "      <th>Pedestrians Killed</th>\n",
              "      <th>...</th>\n",
              "      <th>x</th>\n",
              "      <th>y</th>\n",
              "      <th>Month</th>\n",
              "      <th>Day_of_Month</th>\n",
              "      <th>Day_Name</th>\n",
              "      <th>Season</th>\n",
              "      <th>Speed_Posted_Clean</th>\n",
              "      <th>Speed_Max_Safe_Cleaned</th>\n",
              "      <th>Vehicle_Year_Avg</th>\n",
              "      <th>Vehicle_Year_Range</th>\n",
              "    </tr>\n",
              "  </thead>\n",
              "  <tbody>\n",
              "    <tr>\n",
              "      <th>0</th>\n",
              "      <td>1</td>\n",
              "      <td>163465085</td>\n",
              "      <td>2016</td>\n",
              "      <td>O</td>\n",
              "      <td>0</td>\n",
              "      <td>0</td>\n",
              "      <td>0</td>\n",
              "      <td>0</td>\n",
              "      <td>0</td>\n",
              "      <td>0</td>\n",
              "      <td>...</td>\n",
              "      <td>-77.280787</td>\n",
              "      <td>38.653845</td>\n",
              "      <td>December</td>\n",
              "      <td>6</td>\n",
              "      <td>Tuesday</td>\n",
              "      <td>Winter</td>\n",
              "      <td>60.0</td>\n",
              "      <td>25.0</td>\n",
              "      <td>2012.0</td>\n",
              "      <td>7.0</td>\n",
              "    </tr>\n",
              "    <tr>\n",
              "      <th>1</th>\n",
              "      <td>2</td>\n",
              "      <td>160725125</td>\n",
              "      <td>2016</td>\n",
              "      <td>O</td>\n",
              "      <td>0</td>\n",
              "      <td>0</td>\n",
              "      <td>0</td>\n",
              "      <td>0</td>\n",
              "      <td>0</td>\n",
              "      <td>0</td>\n",
              "      <td>...</td>\n",
              "      <td>-76.322790</td>\n",
              "      <td>37.027737</td>\n",
              "      <td>January</td>\n",
              "      <td>26</td>\n",
              "      <td>Tuesday</td>\n",
              "      <td>Winter</td>\n",
              "      <td>35.0</td>\n",
              "      <td>35.0</td>\n",
              "      <td>2008.0</td>\n",
              "      <td>6.0</td>\n",
              "    </tr>\n",
              "    <tr>\n",
              "      <th>2</th>\n",
              "      <td>3</td>\n",
              "      <td>160465260</td>\n",
              "      <td>2016</td>\n",
              "      <td>B</td>\n",
              "      <td>0</td>\n",
              "      <td>0</td>\n",
              "      <td>2</td>\n",
              "      <td>0</td>\n",
              "      <td>2</td>\n",
              "      <td>0</td>\n",
              "      <td>...</td>\n",
              "      <td>-76.362036</td>\n",
              "      <td>37.898547</td>\n",
              "      <td>February</td>\n",
              "      <td>13</td>\n",
              "      <td>Saturday</td>\n",
              "      <td>Winter</td>\n",
              "      <td>55.0</td>\n",
              "      <td>55.0</td>\n",
              "      <td>1996.0</td>\n",
              "      <td>0.0</td>\n",
              "    </tr>\n",
              "    <tr>\n",
              "      <th>3</th>\n",
              "      <td>4</td>\n",
              "      <td>161255113</td>\n",
              "      <td>2016</td>\n",
              "      <td>O</td>\n",
              "      <td>0</td>\n",
              "      <td>0</td>\n",
              "      <td>0</td>\n",
              "      <td>0</td>\n",
              "      <td>0</td>\n",
              "      <td>0</td>\n",
              "      <td>...</td>\n",
              "      <td>-77.453780</td>\n",
              "      <td>37.695529</td>\n",
              "      <td>March</td>\n",
              "      <td>26</td>\n",
              "      <td>Saturday</td>\n",
              "      <td>Spring</td>\n",
              "      <td>35.0</td>\n",
              "      <td>35.0</td>\n",
              "      <td>2003.0</td>\n",
              "      <td>10.0</td>\n",
              "    </tr>\n",
              "    <tr>\n",
              "      <th>4</th>\n",
              "      <td>5</td>\n",
              "      <td>162005180</td>\n",
              "      <td>2016</td>\n",
              "      <td>O</td>\n",
              "      <td>0</td>\n",
              "      <td>0</td>\n",
              "      <td>0</td>\n",
              "      <td>0</td>\n",
              "      <td>0</td>\n",
              "      <td>0</td>\n",
              "      <td>...</td>\n",
              "      <td>-79.942464</td>\n",
              "      <td>37.103654</td>\n",
              "      <td>July</td>\n",
              "      <td>18</td>\n",
              "      <td>Monday</td>\n",
              "      <td>Summer</td>\n",
              "      <td>55.0</td>\n",
              "      <td>55.0</td>\n",
              "      <td>1994.0</td>\n",
              "      <td>3.0</td>\n",
              "    </tr>\n",
              "  </tbody>\n",
              "</table>\n",
              "<p>5 rows × 69 columns</p>\n",
              "</div>\n",
              "    <div class=\"colab-df-buttons\">\n",
              "\n",
              "  <div class=\"colab-df-container\">\n",
              "    <button class=\"colab-df-convert\" onclick=\"convertToInteractive('df-ed3b250b-0417-4cee-97c7-dbaad06b8d31')\"\n",
              "            title=\"Convert this dataframe to an interactive table.\"\n",
              "            style=\"display:none;\">\n",
              "\n",
              "  <svg xmlns=\"http://www.w3.org/2000/svg\" height=\"24px\" viewBox=\"0 -960 960 960\">\n",
              "    <path d=\"M120-120v-720h720v720H120Zm60-500h600v-160H180v160Zm220 220h160v-160H400v160Zm0 220h160v-160H400v160ZM180-400h160v-160H180v160Zm440 0h160v-160H620v160ZM180-180h160v-160H180v160Zm440 0h160v-160H620v160Z\"/>\n",
              "  </svg>\n",
              "    </button>\n",
              "\n",
              "  <style>\n",
              "    .colab-df-container {\n",
              "      display:flex;\n",
              "      gap: 12px;\n",
              "    }\n",
              "\n",
              "    .colab-df-convert {\n",
              "      background-color: #E8F0FE;\n",
              "      border: none;\n",
              "      border-radius: 50%;\n",
              "      cursor: pointer;\n",
              "      display: none;\n",
              "      fill: #1967D2;\n",
              "      height: 32px;\n",
              "      padding: 0 0 0 0;\n",
              "      width: 32px;\n",
              "    }\n",
              "\n",
              "    .colab-df-convert:hover {\n",
              "      background-color: #E2EBFA;\n",
              "      box-shadow: 0px 1px 2px rgba(60, 64, 67, 0.3), 0px 1px 3px 1px rgba(60, 64, 67, 0.15);\n",
              "      fill: #174EA6;\n",
              "    }\n",
              "\n",
              "    .colab-df-buttons div {\n",
              "      margin-bottom: 4px;\n",
              "    }\n",
              "\n",
              "    [theme=dark] .colab-df-convert {\n",
              "      background-color: #3B4455;\n",
              "      fill: #D2E3FC;\n",
              "    }\n",
              "\n",
              "    [theme=dark] .colab-df-convert:hover {\n",
              "      background-color: #434B5C;\n",
              "      box-shadow: 0px 1px 3px 1px rgba(0, 0, 0, 0.15);\n",
              "      filter: drop-shadow(0px 1px 2px rgba(0, 0, 0, 0.3));\n",
              "      fill: #FFFFFF;\n",
              "    }\n",
              "  </style>\n",
              "\n",
              "    <script>\n",
              "      const buttonEl =\n",
              "        document.querySelector('#df-ed3b250b-0417-4cee-97c7-dbaad06b8d31 button.colab-df-convert');\n",
              "      buttonEl.style.display =\n",
              "        google.colab.kernel.accessAllowed ? 'block' : 'none';\n",
              "\n",
              "      async function convertToInteractive(key) {\n",
              "        const element = document.querySelector('#df-ed3b250b-0417-4cee-97c7-dbaad06b8d31');\n",
              "        const dataTable =\n",
              "          await google.colab.kernel.invokeFunction('convertToInteractive',\n",
              "                                                    [key], {});\n",
              "        if (!dataTable) return;\n",
              "\n",
              "        const docLinkHtml = 'Like what you see? Visit the ' +\n",
              "          '<a target=\"_blank\" href=https://colab.research.google.com/notebooks/data_table.ipynb>data table notebook</a>'\n",
              "          + ' to learn more about interactive tables.';\n",
              "        element.innerHTML = '';\n",
              "        dataTable['output_type'] = 'display_data';\n",
              "        await google.colab.output.renderOutput(dataTable, element);\n",
              "        const docLink = document.createElement('div');\n",
              "        docLink.innerHTML = docLinkHtml;\n",
              "        element.appendChild(docLink);\n",
              "      }\n",
              "    </script>\n",
              "  </div>\n",
              "\n",
              "\n",
              "<div id=\"df-5804f2a0-9162-409f-8bcf-034d702b7103\">\n",
              "  <button class=\"colab-df-quickchart\" onclick=\"quickchart('df-5804f2a0-9162-409f-8bcf-034d702b7103')\"\n",
              "            title=\"Suggest charts\"\n",
              "            style=\"display:none;\">\n",
              "\n",
              "<svg xmlns=\"http://www.w3.org/2000/svg\" height=\"24px\"viewBox=\"0 0 24 24\"\n",
              "     width=\"24px\">\n",
              "    <g>\n",
              "        <path d=\"M19 3H5c-1.1 0-2 .9-2 2v14c0 1.1.9 2 2 2h14c1.1 0 2-.9 2-2V5c0-1.1-.9-2-2-2zM9 17H7v-7h2v7zm4 0h-2V7h2v10zm4 0h-2v-4h2v4z\"/>\n",
              "    </g>\n",
              "</svg>\n",
              "  </button>\n",
              "\n",
              "<style>\n",
              "  .colab-df-quickchart {\n",
              "      --bg-color: #E8F0FE;\n",
              "      --fill-color: #1967D2;\n",
              "      --hover-bg-color: #E2EBFA;\n",
              "      --hover-fill-color: #174EA6;\n",
              "      --disabled-fill-color: #AAA;\n",
              "      --disabled-bg-color: #DDD;\n",
              "  }\n",
              "\n",
              "  [theme=dark] .colab-df-quickchart {\n",
              "      --bg-color: #3B4455;\n",
              "      --fill-color: #D2E3FC;\n",
              "      --hover-bg-color: #434B5C;\n",
              "      --hover-fill-color: #FFFFFF;\n",
              "      --disabled-bg-color: #3B4455;\n",
              "      --disabled-fill-color: #666;\n",
              "  }\n",
              "\n",
              "  .colab-df-quickchart {\n",
              "    background-color: var(--bg-color);\n",
              "    border: none;\n",
              "    border-radius: 50%;\n",
              "    cursor: pointer;\n",
              "    display: none;\n",
              "    fill: var(--fill-color);\n",
              "    height: 32px;\n",
              "    padding: 0;\n",
              "    width: 32px;\n",
              "  }\n",
              "\n",
              "  .colab-df-quickchart:hover {\n",
              "    background-color: var(--hover-bg-color);\n",
              "    box-shadow: 0 1px 2px rgba(60, 64, 67, 0.3), 0 1px 3px 1px rgba(60, 64, 67, 0.15);\n",
              "    fill: var(--button-hover-fill-color);\n",
              "  }\n",
              "\n",
              "  .colab-df-quickchart-complete:disabled,\n",
              "  .colab-df-quickchart-complete:disabled:hover {\n",
              "    background-color: var(--disabled-bg-color);\n",
              "    fill: var(--disabled-fill-color);\n",
              "    box-shadow: none;\n",
              "  }\n",
              "\n",
              "  .colab-df-spinner {\n",
              "    border: 2px solid var(--fill-color);\n",
              "    border-color: transparent;\n",
              "    border-bottom-color: var(--fill-color);\n",
              "    animation:\n",
              "      spin 1s steps(1) infinite;\n",
              "  }\n",
              "\n",
              "  @keyframes spin {\n",
              "    0% {\n",
              "      border-color: transparent;\n",
              "      border-bottom-color: var(--fill-color);\n",
              "      border-left-color: var(--fill-color);\n",
              "    }\n",
              "    20% {\n",
              "      border-color: transparent;\n",
              "      border-left-color: var(--fill-color);\n",
              "      border-top-color: var(--fill-color);\n",
              "    }\n",
              "    30% {\n",
              "      border-color: transparent;\n",
              "      border-left-color: var(--fill-color);\n",
              "      border-top-color: var(--fill-color);\n",
              "      border-right-color: var(--fill-color);\n",
              "    }\n",
              "    40% {\n",
              "      border-color: transparent;\n",
              "      border-right-color: var(--fill-color);\n",
              "      border-top-color: var(--fill-color);\n",
              "    }\n",
              "    60% {\n",
              "      border-color: transparent;\n",
              "      border-right-color: var(--fill-color);\n",
              "    }\n",
              "    80% {\n",
              "      border-color: transparent;\n",
              "      border-right-color: var(--fill-color);\n",
              "      border-bottom-color: var(--fill-color);\n",
              "    }\n",
              "    90% {\n",
              "      border-color: transparent;\n",
              "      border-bottom-color: var(--fill-color);\n",
              "    }\n",
              "  }\n",
              "</style>\n",
              "\n",
              "  <script>\n",
              "    async function quickchart(key) {\n",
              "      const quickchartButtonEl =\n",
              "        document.querySelector('#' + key + ' button');\n",
              "      quickchartButtonEl.disabled = true;  // To prevent multiple clicks.\n",
              "      quickchartButtonEl.classList.add('colab-df-spinner');\n",
              "      try {\n",
              "        const charts = await google.colab.kernel.invokeFunction(\n",
              "            'suggestCharts', [key], {});\n",
              "      } catch (error) {\n",
              "        console.error('Error during call to suggestCharts:', error);\n",
              "      }\n",
              "      quickchartButtonEl.classList.remove('colab-df-spinner');\n",
              "      quickchartButtonEl.classList.add('colab-df-quickchart-complete');\n",
              "    }\n",
              "    (() => {\n",
              "      let quickchartButtonEl =\n",
              "        document.querySelector('#df-5804f2a0-9162-409f-8bcf-034d702b7103 button');\n",
              "      quickchartButtonEl.style.display =\n",
              "        google.colab.kernel.accessAllowed ? 'block' : 'none';\n",
              "    })();\n",
              "  </script>\n",
              "</div>\n",
              "\n",
              "    </div>\n",
              "  </div>\n"
            ],
            "application/vnd.google.colaboratory.intrinsic+json": {
              "type": "dataframe",
              "variable_name": "data"
            }
          },
          "metadata": {},
          "execution_count": 16
        }
      ]
    },
    {
      "cell_type": "code",
      "source": [
        "# Drop rows where Crash Severity == 'O'\n",
        "data_copy = data\n",
        "\n",
        "data = data[data['Crash Severity'] != 'O']\n"
      ],
      "metadata": {
        "id": "GyhrU54XCAyp"
      },
      "execution_count": null,
      "outputs": []
    },
    {
      "cell_type": "code",
      "source": [
        "# Show the new shape of the data\n",
        "print(\"Shape after dropping 'O' severity rows:\", data.shape)"
      ],
      "metadata": {
        "id": "OduqfDDlCGtH",
        "colab": {
          "base_uri": "https://localhost:8080/"
        },
        "outputId": "4ecac3d0-c300-4a9a-ec04-4ba9cb5f2e96"
      },
      "execution_count": null,
      "outputs": [
        {
          "output_type": "stream",
          "name": "stdout",
          "text": [
            "Shape after dropping 'O' severity rows: (370273, 69)\n"
          ]
        }
      ]
    },
    {
      "cell_type": "code",
      "source": [
        "print(data.head())"
      ],
      "metadata": {
        "colab": {
          "base_uri": "https://localhost:8080/"
        },
        "id": "eg70ih--CJ0u",
        "outputId": "1b63dc60-e363-47bd-cf66-12a52eeaeda9"
      },
      "execution_count": null,
      "outputs": [
        {
          "output_type": "stream",
          "name": "stdout",
          "text": [
            "    OBJECTID  Document Nbr  Crash Year Crash Severity  K_People  A_People  \\\n",
            "2          3     160465260        2016              B         0         0   \n",
            "14        15     160575250        2016              B         0         0   \n",
            "15        16     160680107        2016              C         0         0   \n",
            "16        17     162580076        2016              C         0         0   \n",
            "19        20     161615154        2016              B         0         0   \n",
            "\n",
            "    B_People  C_People  Persons Injured  Pedestrians Killed  ...          x  \\\n",
            "2          2         0                2                   0  ... -76.362036   \n",
            "14         1         0                1                   0  ... -76.006695   \n",
            "15         0         2                2                   0  ... -77.305346   \n",
            "16         0         1                1                   0  ... -77.432049   \n",
            "19         1         0                1                   0  ... -76.264559   \n",
            "\n",
            "            y     Month Day_of_Month  Day_Name  Season Speed_Posted_Clean  \\\n",
            "2   37.898547  February           13  Saturday  Winter               55.0   \n",
            "14  36.774809  February           25  Thursday  Winter               45.0   \n",
            "15  38.974487  February           11  Thursday  Winter               55.0   \n",
            "16  38.834010    August           29    Monday  Summer               45.0   \n",
            "19  36.914787      June            7   Tuesday  Summer               55.0   \n",
            "\n",
            "   Speed_Max_Safe_Cleaned Vehicle_Year_Avg Vehicle_Year_Range  \n",
            "2                    55.0           1996.0                0.0  \n",
            "14                   45.0           2010.0               10.0  \n",
            "15                   55.0           2001.0                8.0  \n",
            "16                   45.0           2011.0               12.0  \n",
            "19                   55.0           2009.0                0.0  \n",
            "\n",
            "[5 rows x 69 columns]\n"
          ]
        }
      ]
    },
    {
      "cell_type": "code",
      "source": [
        "data.shape"
      ],
      "metadata": {
        "colab": {
          "base_uri": "https://localhost:8080/"
        },
        "id": "dxti-LlyOAPd",
        "outputId": "c7b59250-9449-4297-b888-46e8dd476389"
      },
      "execution_count": null,
      "outputs": [
        {
          "output_type": "execute_result",
          "data": {
            "text/plain": [
              "(370273, 69)"
            ]
          },
          "metadata": {},
          "execution_count": 14
        }
      ]
    },
    {
      "cell_type": "code",
      "source": [
        "x = data[['Weather Condition', 'Roadway Surface Type', 'Traffic Control Type', 'Intersection Type' , 'Roadway Description'  , 'Light Condition', 'VDOT District' , 'Season' , 'Month']]\n",
        "print(x.head())"
      ],
      "metadata": {
        "colab": {
          "base_uri": "https://localhost:8080/"
        },
        "id": "gHWU20ZxPyxB",
        "outputId": "07c8f5fd-c4cb-4ff7-c5f2-5774ed8c0679"
      },
      "execution_count": null,
      "outputs": [
        {
          "output_type": "stream",
          "name": "stdout",
          "text": [
            "                         Weather Condition              Roadway Surface Type  \\\n",
            "2   1. No Adverse Condition (Clear/Cloudy)  2. Blacktop, Asphalt, Bituminous   \n",
            "14  1. No Adverse Condition (Clear/Cloudy)  2. Blacktop, Asphalt, Bituminous   \n",
            "15  1. No Adverse Condition (Clear/Cloudy)  2. Blacktop, Asphalt, Bituminous   \n",
            "16  1. No Adverse Condition (Clear/Cloudy)  2. Blacktop, Asphalt, Bituminous   \n",
            "19                                 4. Mist  2. Blacktop, Asphalt, Bituminous   \n",
            "\n",
            "       Traffic Control Type       Intersection Type  \\\n",
            "2   6. Traffic Lanes Marked  1. Not at Intersection   \n",
            "14  6. Traffic Lanes Marked      4. Four Approaches   \n",
            "15  6. Traffic Lanes Marked  1. Not at Intersection   \n",
            "16        3. Traffic Signal      4. Four Approaches   \n",
            "19  6. Traffic Lanes Marked  1. Not at Intersection   \n",
            "\n",
            "                             Roadway Description             Light Condition  \\\n",
            "2                        1. Two-Way, Not Divided  4. Darkness - Road Lighted   \n",
            "14       2. Two-Way, Divided, Unprotected Median  4. Darkness - Road Lighted   \n",
            "15       2. Two-Way, Divided, Unprotected Median  4. Darkness - Road Lighted   \n",
            "16  3. Two-Way, Divided, Positive Median Barrier                 2. Daylight   \n",
            "19  3. Two-Way, Divided, Positive Median Barrier                 2. Daylight   \n",
            "\n",
            "           VDOT District  Season     Month  \n",
            "2      6. Fredericksburg  Winter  February  \n",
            "14      5. Hampton Roads  Winter  February  \n",
            "15  9. Northern Virginia  Winter  February  \n",
            "16  9. Northern Virginia  Summer    August  \n",
            "19      5. Hampton Roads  Summer      June  \n"
          ]
        }
      ]
    },
    {
      "cell_type": "code",
      "source": [
        "x.info()"
      ],
      "metadata": {
        "colab": {
          "base_uri": "https://localhost:8080/"
        },
        "id": "5u2K8MYBQ0Wa",
        "outputId": "bb138e41-766a-49a1-b9f4-153cd48716ff"
      },
      "execution_count": null,
      "outputs": [
        {
          "output_type": "stream",
          "name": "stdout",
          "text": [
            "<class 'pandas.core.frame.DataFrame'>\n",
            "Index: 370273 entries, 2 to 1128860\n",
            "Data columns (total 9 columns):\n",
            " #   Column                Non-Null Count   Dtype \n",
            "---  ------                --------------   ----- \n",
            " 0   Weather Condition     370273 non-null  object\n",
            " 1   Roadway Surface Type  370273 non-null  object\n",
            " 2   Traffic Control Type  370273 non-null  object\n",
            " 3   Intersection Type     370273 non-null  object\n",
            " 4   Roadway Description   370273 non-null  object\n",
            " 5   Light Condition       370273 non-null  object\n",
            " 6   VDOT District         370273 non-null  object\n",
            " 7   Season                370273 non-null  object\n",
            " 8   Month                 370273 non-null  object\n",
            "dtypes: object(9)\n",
            "memory usage: 28.2+ MB\n"
          ]
        }
      ]
    },
    {
      "cell_type": "code",
      "source": [
        "x = pd.get_dummies(x, columns = ['Weather Condition', 'Roadway Surface Type', 'Traffic Control Type', 'Intersection Type', 'Roadway Description', 'Light Condition', 'VDOT District', 'Season', 'Month'])\n",
        "x.shape"
      ],
      "metadata": {
        "colab": {
          "base_uri": "https://localhost:8080/"
        },
        "id": "1pS0rH9GQ3MG",
        "outputId": "1c771cdd-3dc6-41c9-f7df-9aeb66125bda"
      },
      "execution_count": null,
      "outputs": [
        {
          "output_type": "execute_result",
          "data": {
            "text/plain": [
              "(370273, 77)"
            ]
          },
          "metadata": {},
          "execution_count": 17
        }
      ]
    },
    {
      "cell_type": "code",
      "source": [
        "print(x.iloc[0])"
      ],
      "metadata": {
        "colab": {
          "base_uri": "https://localhost:8080/"
        },
        "id": "wclW5IdgREIz",
        "outputId": "7df6ded0-bafe-4391-d7f1-ff7485b2d603"
      },
      "execution_count": null,
      "outputs": [
        {
          "output_type": "stream",
          "name": "stdout",
          "text": [
            "Weather Condition_1. No Adverse Condition (Clear/Cloudy)     True\n",
            "Weather Condition_10. Blowing Sand, Soil, Dirt, or Snow     False\n",
            "Weather Condition_11. Severe Crosswinds                     False\n",
            "Weather Condition_3. Fog                                    False\n",
            "Weather Condition_4. Mist                                   False\n",
            "                                                            ...  \n",
            "Month_March                                                 False\n",
            "Month_May                                                   False\n",
            "Month_November                                              False\n",
            "Month_October                                               False\n",
            "Month_September                                             False\n",
            "Name: 2, Length: 77, dtype: bool\n"
          ]
        }
      ]
    },
    {
      "cell_type": "code",
      "source": [
        "y = data['Crash Severity']\n",
        "print(y.head())"
      ],
      "metadata": {
        "colab": {
          "base_uri": "https://localhost:8080/"
        },
        "id": "fzHnkYokRKuZ",
        "outputId": "7c2d76f9-3ace-4db8-fc3a-eeea0237b360"
      },
      "execution_count": null,
      "outputs": [
        {
          "output_type": "stream",
          "name": "stdout",
          "text": [
            "2     B\n",
            "14    B\n",
            "15    C\n",
            "16    C\n",
            "19    B\n",
            "Name: Crash Severity, dtype: object\n"
          ]
        }
      ]
    },
    {
      "cell_type": "code",
      "source": [
        "y = pd.get_dummies(y, columns = ['Crash Severity'])\n",
        "print(y.head())"
      ],
      "metadata": {
        "colab": {
          "base_uri": "https://localhost:8080/"
        },
        "id": "aJ8SY9lGRYmp",
        "outputId": "c8276e61-465a-4a12-c0f2-7d938d37fe0c"
      },
      "execution_count": null,
      "outputs": [
        {
          "output_type": "stream",
          "name": "stdout",
          "text": [
            "        A      B      C      K\n",
            "2   False   True  False  False\n",
            "14  False   True  False  False\n",
            "15  False  False   True  False\n",
            "16  False  False   True  False\n",
            "19  False   True  False  False\n"
          ]
        }
      ]
    },
    {
      "cell_type": "code",
      "source": [
        "y.shape"
      ],
      "metadata": {
        "colab": {
          "base_uri": "https://localhost:8080/"
        },
        "id": "KjZg4vyHRbfk",
        "outputId": "75db366b-a8ff-4224-8966-6e4ede7f533e"
      },
      "execution_count": null,
      "outputs": [
        {
          "output_type": "execute_result",
          "data": {
            "text/plain": [
              "(370273, 4)"
            ]
          },
          "metadata": {},
          "execution_count": 21
        }
      ]
    },
    {
      "cell_type": "code",
      "source": [
        "from sklearn.model_selection import train_test_split\n",
        "\n",
        "x_train, x_test, y_train, y_test = train_test_split(x,y, test_size=0.2, random_state = 1693)\n",
        "\n",
        "print(y_test[0:2])"
      ],
      "metadata": {
        "colab": {
          "base_uri": "https://localhost:8080/"
        },
        "id": "gl6ZdlfhRdAY",
        "outputId": "24ddecfb-b6cf-401c-ba6a-df3b46e4a7f3"
      },
      "execution_count": null,
      "outputs": [
        {
          "output_type": "stream",
          "name": "stdout",
          "text": [
            "            A     B      C      K\n",
            "935584  False  True  False  False\n",
            "247715  False  True  False  False\n"
          ]
        }
      ]
    },
    {
      "cell_type": "code",
      "source": [
        "# print(x_train.iloc[0].astype(int))\n",
        "# # print(x_test.shape)\n",
        "# # print(y_train.shape)\n",
        "# # print(y_test.shape)"
      ],
      "metadata": {
        "id": "kQ93mF6hD2Xm"
      },
      "execution_count": null,
      "outputs": []
    },
    {
      "cell_type": "code",
      "source": [
        "import pandas as pd\n",
        "from sklearn.model_selection import train_test_split\n",
        "from tensorflow import keras\n",
        "import pandas as pd\n",
        "from keras.models import Sequential\n",
        "from keras.layers import Dense\n",
        "from keras.utils import to_categorical\n",
        "import matplotlib.pyplot as pyplot\n",
        "import datetime as dt\n",
        "from datetime import datetime\n",
        "import sklearn as sk\n",
        "from sklearn.model_selection import train_test_split"
      ],
      "metadata": {
        "id": "cCiFxZ2gRjxg"
      },
      "execution_count": null,
      "outputs": []
    },
    {
      "cell_type": "code",
      "source": [
        "model = Sequential(name = 'CrashSeverity')\n",
        "\n",
        "model.add(Dense(\n",
        "    input_dim = 77,\n",
        "    units = 10,\n",
        "    activation = 'relu'\n",
        "))"
      ],
      "metadata": {
        "colab": {
          "base_uri": "https://localhost:8080/"
        },
        "id": "ASUjgjZlRm46",
        "outputId": "146c1dd1-577c-4b82-f1f4-e0bb80fa5101"
      },
      "execution_count": null,
      "outputs": [
        {
          "output_type": "stream",
          "name": "stderr",
          "text": [
            "/usr/local/lib/python3.11/dist-packages/keras/src/layers/core/dense.py:87: UserWarning: Do not pass an `input_shape`/`input_dim` argument to a layer. When using Sequential models, prefer using an `Input(shape)` object as the first layer in the model instead.\n",
            "  super().__init__(activity_regularizer=activity_regularizer, **kwargs)\n"
          ]
        }
      ]
    },
    {
      "cell_type": "code",
      "source": [
        "model.add(Dense(\n",
        "    units = 8,\n",
        "    activation = 'relu'\n",
        "))\n",
        "\n",
        "model.add(Dense(\n",
        "    units = 4,\n",
        "    activation = 'softmax'\n",
        "))\n",
        "\n",
        "model.summary()"
      ],
      "metadata": {
        "colab": {
          "base_uri": "https://localhost:8080/",
          "height": 225
        },
        "id": "-phTl-_CRx1E",
        "outputId": "1abf21e9-89db-4662-eefa-bb930dec69c3"
      },
      "execution_count": null,
      "outputs": [
        {
          "output_type": "display_data",
          "data": {
            "text/plain": [
              "\u001b[1mModel: \"CrashSeverity\"\u001b[0m\n"
            ],
            "text/html": [
              "<pre style=\"white-space:pre;overflow-x:auto;line-height:normal;font-family:Menlo,'DejaVu Sans Mono',consolas,'Courier New',monospace\"><span style=\"font-weight: bold\">Model: \"CrashSeverity\"</span>\n",
              "</pre>\n"
            ]
          },
          "metadata": {}
        },
        {
          "output_type": "display_data",
          "data": {
            "text/plain": [
              "┏━━━━━━━━━━━━━━━━━━━━━━━━━━━━━━━━━━━━━━┳━━━━━━━━━━━━━━━━━━━━━━━━━━━━━┳━━━━━━━━━━━━━━━━━┓\n",
              "┃\u001b[1m \u001b[0m\u001b[1mLayer (type)                        \u001b[0m\u001b[1m \u001b[0m┃\u001b[1m \u001b[0m\u001b[1mOutput Shape               \u001b[0m\u001b[1m \u001b[0m┃\u001b[1m \u001b[0m\u001b[1m        Param #\u001b[0m\u001b[1m \u001b[0m┃\n",
              "┡━━━━━━━━━━━━━━━━━━━━━━━━━━━━━━━━━━━━━━╇━━━━━━━━━━━━━━━━━━━━━━━━━━━━━╇━━━━━━━━━━━━━━━━━┩\n",
              "│ dense_5 (\u001b[38;5;33mDense\u001b[0m)                      │ (\u001b[38;5;45mNone\u001b[0m, \u001b[38;5;34m10\u001b[0m)                  │             \u001b[38;5;34m780\u001b[0m │\n",
              "├──────────────────────────────────────┼─────────────────────────────┼─────────────────┤\n",
              "│ dense_6 (\u001b[38;5;33mDense\u001b[0m)                      │ (\u001b[38;5;45mNone\u001b[0m, \u001b[38;5;34m8\u001b[0m)                   │              \u001b[38;5;34m88\u001b[0m │\n",
              "├──────────────────────────────────────┼─────────────────────────────┼─────────────────┤\n",
              "│ dense_7 (\u001b[38;5;33mDense\u001b[0m)                      │ (\u001b[38;5;45mNone\u001b[0m, \u001b[38;5;34m4\u001b[0m)                   │              \u001b[38;5;34m36\u001b[0m │\n",
              "└──────────────────────────────────────┴─────────────────────────────┴─────────────────┘\n"
            ],
            "text/html": [
              "<pre style=\"white-space:pre;overflow-x:auto;line-height:normal;font-family:Menlo,'DejaVu Sans Mono',consolas,'Courier New',monospace\">┏━━━━━━━━━━━━━━━━━━━━━━━━━━━━━━━━━━━━━━┳━━━━━━━━━━━━━━━━━━━━━━━━━━━━━┳━━━━━━━━━━━━━━━━━┓\n",
              "┃<span style=\"font-weight: bold\"> Layer (type)                         </span>┃<span style=\"font-weight: bold\"> Output Shape                </span>┃<span style=\"font-weight: bold\">         Param # </span>┃\n",
              "┡━━━━━━━━━━━━━━━━━━━━━━━━━━━━━━━━━━━━━━╇━━━━━━━━━━━━━━━━━━━━━━━━━━━━━╇━━━━━━━━━━━━━━━━━┩\n",
              "│ dense_5 (<span style=\"color: #0087ff; text-decoration-color: #0087ff\">Dense</span>)                      │ (<span style=\"color: #00d7ff; text-decoration-color: #00d7ff\">None</span>, <span style=\"color: #00af00; text-decoration-color: #00af00\">10</span>)                  │             <span style=\"color: #00af00; text-decoration-color: #00af00\">780</span> │\n",
              "├──────────────────────────────────────┼─────────────────────────────┼─────────────────┤\n",
              "│ dense_6 (<span style=\"color: #0087ff; text-decoration-color: #0087ff\">Dense</span>)                      │ (<span style=\"color: #00d7ff; text-decoration-color: #00d7ff\">None</span>, <span style=\"color: #00af00; text-decoration-color: #00af00\">8</span>)                   │              <span style=\"color: #00af00; text-decoration-color: #00af00\">88</span> │\n",
              "├──────────────────────────────────────┼─────────────────────────────┼─────────────────┤\n",
              "│ dense_7 (<span style=\"color: #0087ff; text-decoration-color: #0087ff\">Dense</span>)                      │ (<span style=\"color: #00d7ff; text-decoration-color: #00d7ff\">None</span>, <span style=\"color: #00af00; text-decoration-color: #00af00\">4</span>)                   │              <span style=\"color: #00af00; text-decoration-color: #00af00\">36</span> │\n",
              "└──────────────────────────────────────┴─────────────────────────────┴─────────────────┘\n",
              "</pre>\n"
            ]
          },
          "metadata": {}
        },
        {
          "output_type": "display_data",
          "data": {
            "text/plain": [
              "\u001b[1m Total params: \u001b[0m\u001b[38;5;34m904\u001b[0m (3.53 KB)\n"
            ],
            "text/html": [
              "<pre style=\"white-space:pre;overflow-x:auto;line-height:normal;font-family:Menlo,'DejaVu Sans Mono',consolas,'Courier New',monospace\"><span style=\"font-weight: bold\"> Total params: </span><span style=\"color: #00af00; text-decoration-color: #00af00\">904</span> (3.53 KB)\n",
              "</pre>\n"
            ]
          },
          "metadata": {}
        },
        {
          "output_type": "display_data",
          "data": {
            "text/plain": [
              "\u001b[1m Trainable params: \u001b[0m\u001b[38;5;34m904\u001b[0m (3.53 KB)\n"
            ],
            "text/html": [
              "<pre style=\"white-space:pre;overflow-x:auto;line-height:normal;font-family:Menlo,'DejaVu Sans Mono',consolas,'Courier New',monospace\"><span style=\"font-weight: bold\"> Trainable params: </span><span style=\"color: #00af00; text-decoration-color: #00af00\">904</span> (3.53 KB)\n",
              "</pre>\n"
            ]
          },
          "metadata": {}
        },
        {
          "output_type": "display_data",
          "data": {
            "text/plain": [
              "\u001b[1m Non-trainable params: \u001b[0m\u001b[38;5;34m0\u001b[0m (0.00 B)\n"
            ],
            "text/html": [
              "<pre style=\"white-space:pre;overflow-x:auto;line-height:normal;font-family:Menlo,'DejaVu Sans Mono',consolas,'Courier New',monospace\"><span style=\"font-weight: bold\"> Non-trainable params: </span><span style=\"color: #00af00; text-decoration-color: #00af00\">0</span> (0.00 B)\n",
              "</pre>\n"
            ]
          },
          "metadata": {}
        }
      ]
    },
    {
      "cell_type": "code",
      "source": [
        "model.compile(\n",
        "    loss = 'categorical_crossentropy',\n",
        "    optimizer = 'adam',\n",
        "    metrics = ['accuracy']\n",
        ")"
      ],
      "metadata": {
        "id": "JxPv9sJHR2Cx"
      },
      "execution_count": null,
      "outputs": []
    },
    {
      "cell_type": "code",
      "source": [
        "print(x_train.iloc[0])\n",
        "print(x_train.shape)"
      ],
      "metadata": {
        "colab": {
          "base_uri": "https://localhost:8080/"
        },
        "id": "ZmkgtmiODw82",
        "outputId": "6d375f87-9dd0-4d3c-f752-7f08839a1a6f"
      },
      "execution_count": null,
      "outputs": [
        {
          "output_type": "stream",
          "name": "stdout",
          "text": [
            "Weather Condition_1. No Adverse Condition (Clear/Cloudy)     True\n",
            "Weather Condition_10. Blowing Sand, Soil, Dirt, or Snow     False\n",
            "Weather Condition_11. Severe Crosswinds                     False\n",
            "Weather Condition_3. Fog                                    False\n",
            "Weather Condition_4. Mist                                   False\n",
            "                                                            ...  \n",
            "Month_March                                                 False\n",
            "Month_May                                                   False\n",
            "Month_November                                              False\n",
            "Month_October                                               False\n",
            "Month_September                                             False\n",
            "Name: 874758, Length: 77, dtype: bool\n",
            "(296218, 77)\n"
          ]
        }
      ]
    },
    {
      "cell_type": "code",
      "source": [
        "print(y_train.iloc[0])\n",
        "print(y_train.shape)"
      ],
      "metadata": {
        "colab": {
          "base_uri": "https://localhost:8080/"
        },
        "id": "y36whSD1HC6X",
        "outputId": "175f47c7-d45c-41b1-bc6f-63f30e87a4fd"
      },
      "execution_count": null,
      "outputs": [
        {
          "output_type": "stream",
          "name": "stdout",
          "text": [
            "A    False\n",
            "B     True\n",
            "C    False\n",
            "K    False\n",
            "Name: 874758, dtype: bool\n",
            "(296218, 4)\n"
          ]
        }
      ]
    },
    {
      "cell_type": "code",
      "source": [
        "estimate = model.fit(x_train, y_train, validation_split= 0.2, epochs = 200, verbose = 0)"
      ],
      "metadata": {
        "id": "sruls0fmR6DA"
      },
      "execution_count": null,
      "outputs": []
    },
    {
      "cell_type": "code",
      "source": [
        "print(model.evaluate(x_test,y_test))"
      ],
      "metadata": {
        "colab": {
          "base_uri": "https://localhost:8080/"
        },
        "id": "8Fz8mv9qR9rg",
        "outputId": "910760a3-da09-4717-e728-c09fd1adbd33"
      },
      "execution_count": null,
      "outputs": [
        {
          "output_type": "stream",
          "name": "stdout",
          "text": [
            "\u001b[1m2315/2315\u001b[0m \u001b[32m━━━━━━━━━━━━━━━━━━━━\u001b[0m\u001b[37m\u001b[0m \u001b[1m3s\u001b[0m 1ms/step - accuracy: 0.6075 - loss: 0.9470\n",
            "[0.9532524347305298, 0.6035109162330627]\n"
          ]
        }
      ]
    },
    {
      "cell_type": "code",
      "source": [
        "predicted_value = model.predict(x_test)\n",
        "print(predicted_value[5])"
      ],
      "metadata": {
        "colab": {
          "base_uri": "https://localhost:8080/"
        },
        "id": "Yv9ZSnkaUAJN",
        "outputId": "5a453729-136a-400d-ccb6-ffece386a7fc"
      },
      "execution_count": null,
      "outputs": [
        {
          "output_type": "stream",
          "name": "stdout",
          "text": [
            "\u001b[1m2315/2315\u001b[0m \u001b[32m━━━━━━━━━━━━━━━━━━━━\u001b[0m\u001b[37m\u001b[0m \u001b[1m3s\u001b[0m 1ms/step\n",
            "[0.19664755 0.5479259  0.2316789  0.02374765]\n"
          ]
        }
      ]
    },
    {
      "cell_type": "code",
      "source": [
        "print(predicted_value[0:2])"
      ],
      "metadata": {
        "colab": {
          "base_uri": "https://localhost:8080/"
        },
        "id": "Ts-s0txDWZhQ",
        "outputId": "40b42023-36b4-4c08-eaf2-02f5729f4ace"
      },
      "execution_count": null,
      "outputs": [
        {
          "output_type": "stream",
          "name": "stdout",
          "text": [
            "[[0.11466154 0.6272261  0.2461774  0.01193498]\n",
            " [0.0992185  0.74072826 0.14995012 0.01010309]]\n"
          ]
        }
      ]
    },
    {
      "cell_type": "code",
      "source": [
        "print(y_test.iloc[5][np.argmax(predicted_value[5])])"
      ],
      "metadata": {
        "colab": {
          "base_uri": "https://localhost:8080/"
        },
        "id": "fzXNbXixUXmh",
        "outputId": "dd0a8c68-5b1a-45e9-abae-897d129ce119"
      },
      "execution_count": null,
      "outputs": [
        {
          "output_type": "stream",
          "name": "stdout",
          "text": [
            "False\n"
          ]
        },
        {
          "output_type": "stream",
          "name": "stderr",
          "text": [
            "<ipython-input-56-4d68422b1580>:1: FutureWarning: Series.__getitem__ treating keys as positions is deprecated. In a future version, integer keys will always be treated as labels (consistent with DataFrame behavior). To access a value by position, use `ser.iloc[pos]`\n",
            "  print(y_test.iloc[5][np.argmax(predicted_value[5])])\n"
          ]
        }
      ]
    },
    {
      "cell_type": "code",
      "source": [
        "y_test.iloc[5].index[3]"
      ],
      "metadata": {
        "colab": {
          "base_uri": "https://localhost:8080/",
          "height": 36
        },
        "id": "IZua3L_sUsyA",
        "outputId": "595f731d-7da2-4753-ced3-13cf9ce7a176"
      },
      "execution_count": null,
      "outputs": [
        {
          "output_type": "execute_result",
          "data": {
            "text/plain": [
              "'K'"
            ],
            "application/vnd.google.colaboratory.intrinsic+json": {
              "type": "string"
            }
          },
          "metadata": {},
          "execution_count": 57
        }
      ]
    },
    {
      "cell_type": "code",
      "source": [
        "for i in range(20):\n",
        "  x = np.argmax(predicted_value[i])\n",
        "  print(x)"
      ],
      "metadata": {
        "colab": {
          "base_uri": "https://localhost:8080/"
        },
        "id": "3i4W3ucDU-2r",
        "outputId": "b90727b0-6f62-42e0-f918-0780ea3a37eb"
      },
      "execution_count": null,
      "outputs": [
        {
          "output_type": "stream",
          "name": "stdout",
          "text": [
            "1\n",
            "1\n",
            "1\n",
            "1\n",
            "1\n",
            "1\n",
            "1\n",
            "1\n",
            "2\n",
            "1\n",
            "1\n",
            "1\n",
            "1\n",
            "1\n",
            "1\n",
            "1\n",
            "1\n",
            "1\n",
            "2\n",
            "1\n"
          ]
        }
      ]
    },
    {
      "cell_type": "code",
      "source": [
        "def predict_label(x):\n",
        "  if x == 0:\n",
        "    print('Crash Severity: A - Suspected Severe')\n",
        "  elif x == 1:\n",
        "    print('Crash Severity: B - Minor Injury')\n",
        "  elif x == 2:\n",
        "    print('Crash Severity: C - Worst Severity')\n",
        "  else:\n",
        "    print('Crash Severity: K - Fatal Injury')"
      ],
      "metadata": {
        "id": "yYo6Z234VYih"
      },
      "execution_count": null,
      "outputs": []
    },
    {
      "cell_type": "code",
      "source": [
        "predict_label(0)"
      ],
      "metadata": {
        "colab": {
          "base_uri": "https://localhost:8080/"
        },
        "id": "adGX2gmdWDNX",
        "outputId": "fbe20443-9be7-443d-9013-c6316e9eff75"
      },
      "execution_count": null,
      "outputs": [
        {
          "output_type": "stream",
          "name": "stdout",
          "text": [
            "Crash Severity: A - Suspected Severe\n"
          ]
        }
      ]
    },
    {
      "cell_type": "code",
      "source": [
        "predict_label(np.argmax(predicted_value[15]))"
      ],
      "metadata": {
        "colab": {
          "base_uri": "https://localhost:8080/"
        },
        "id": "Ub2gjNfxWGNZ",
        "outputId": "49a84a35-5acd-492f-d3b6-6fb56adff443"
      },
      "execution_count": null,
      "outputs": [
        {
          "output_type": "stream",
          "name": "stdout",
          "text": [
            "Crash Severity: B - Minor Injury\n"
          ]
        }
      ]
    }
  ]
}